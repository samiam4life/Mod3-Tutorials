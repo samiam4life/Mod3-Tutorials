{
 "cells": [
  {
   "cell_type": "code",
   "execution_count": 12,
   "id": "21949bb0",
   "metadata": {},
   "outputs": [],
   "source": [
    "n = 5\n",
    "arr= {0,2,1,2,0}\n",
    "class Solution:\n",
    "  def sort012(self,arr,n):\n",
    "      low=0\n",
    "      high=n-1\n",
    "      mid=0\n",
    "\n",
    "      while mid<=high:\n",
    "          if arr[mid] == 0:\n",
    "              arr[mid], arr[low] = arr[low], arr[mid]\n",
    "              mid+=1\n",
    "              low+=1\n",
    "          elif arr[mid] == 1:\n",
    "              mid+=1\n",
    "          else:\n",
    "              arr[mid], arr[high] = arr[high], arr[mid]"
   ]
  },
  {
   "cell_type": "code",
   "execution_count": null,
   "id": "87de0d67",
   "metadata": {},
   "outputs": [],
   "source": []
  },
  {
   "cell_type": "code",
   "execution_count": null,
   "id": "ff50b480",
   "metadata": {},
   "outputs": [],
   "source": []
  },
  {
   "cell_type": "code",
   "execution_count": null,
   "id": "e33ee1e6",
   "metadata": {},
   "outputs": [],
   "source": []
  },
  {
   "cell_type": "code",
   "execution_count": null,
   "id": "2c5728f5",
   "metadata": {},
   "outputs": [],
   "source": []
  },
  {
   "cell_type": "code",
   "execution_count": null,
   "id": "fc004b34",
   "metadata": {},
   "outputs": [],
   "source": []
  },
  {
   "cell_type": "code",
   "execution_count": null,
   "id": "1ac5c4a8",
   "metadata": {},
   "outputs": [],
   "source": []
  },
  {
   "cell_type": "code",
   "execution_count": null,
   "id": "7656ee9c",
   "metadata": {},
   "outputs": [],
   "source": []
  }
 ],
 "metadata": {
  "kernelspec": {
   "display_name": "Python 3 (ipykernel)",
   "language": "python",
   "name": "python3"
  },
  "language_info": {
   "codemirror_mode": {
    "name": "ipython",
    "version": 3
   },
   "file_extension": ".py",
   "mimetype": "text/x-python",
   "name": "python",
   "nbconvert_exporter": "python",
   "pygments_lexer": "ipython3",
   "version": "3.11.5"
  }
 },
 "nbformat": 4,
 "nbformat_minor": 5
}
