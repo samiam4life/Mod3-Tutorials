{
 "cells": [
  {
   "cell_type": "code",
   "execution_count": 4,
   "id": "764190d2",
   "metadata": {},
   "outputs": [
    {
     "name": "stdout",
     "output_type": "stream",
     "text": [
      "Found At Index 0\n",
      "Found At Index 4\n",
      "Not Found\n"
     ]
    }
   ],
   "source": [
    "def binarySearch(v, To_Find):\n",
    "    lo = 0\n",
    "    hi = len(v) - 1\n",
    "    while hi - lo > 1:\n",
    "        mid = (hi + lo) // 2\n",
    "        if v[mid] < To_Find:\n",
    "            lo = mid + 1\n",
    "        else:\n",
    "            hi = mid\n",
    "    if v[lo] == To_Find:\n",
    "        print(\"Found At Index\", lo)\n",
    "    elif v[hi] == To_Find:\n",
    "        print(\"Found At Index\", hi)\n",
    "    else:\n",
    "        print(\"Not Found\")\n",
    "\n",
    "\n",
    "if __name__ == '__main__':\n",
    "    v = [1, 3, 4, 5, 6]\n",
    "\n",
    "    To_Find = 1\n",
    "    binarySearch(v, To_Find)\n",
    "\n",
    "    To_Find = 6\n",
    "    binarySearch(v, To_Find)\n",
    "\n",
    "    To_Find = 10\n",
    "    binarySearch(v, To_Find)"
   ]
  },
  {
   "cell_type": "code",
   "execution_count": null,
   "id": "11201fe6",
   "metadata": {},
   "outputs": [],
   "source": []
  }
 ],
 "metadata": {
  "kernelspec": {
   "display_name": "Python 3 (ipykernel)",
   "language": "python",
   "name": "python3"
  },
  "language_info": {
   "codemirror_mode": {
    "name": "ipython",
    "version": 3
   },
   "file_extension": ".py",
   "mimetype": "text/x-python",
   "name": "python",
   "nbconvert_exporter": "python",
   "pygments_lexer": "ipython3",
   "version": "3.11.5"
  }
 },
 "nbformat": 4,
 "nbformat_minor": 5
}
